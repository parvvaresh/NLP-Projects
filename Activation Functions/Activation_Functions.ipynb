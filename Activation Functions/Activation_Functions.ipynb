{
  "nbformat": 4,
  "nbformat_minor": 0,
  "metadata": {
    "colab": {
      "provenance": [],
      "authorship_tag": "ABX9TyMolI1V/0jyq8vwipEy97Xe",
      "include_colab_link": true
    },
    "kernelspec": {
      "name": "python3",
      "display_name": "Python 3"
    },
    "language_info": {
      "name": "python"
    }
  },
  "cells": [
    {
      "cell_type": "markdown",
      "metadata": {
        "id": "view-in-github",
        "colab_type": "text"
      },
      "source": [
        "<a href=\"https://colab.research.google.com/github/parvvaresh/Neural-Networks/blob/main/Activation%20Functions/Activation_Functions.ipynb\" target=\"_parent\"><img src=\"https://colab.research.google.com/assets/colab-badge.svg\" alt=\"Open In Colab\"/></a>"
      ]
    },
    {
      "cell_type": "code",
      "execution_count": null,
      "metadata": {
        "id": "yGHYTsk8IHu3"
      },
      "outputs": [],
      "source": [
        "w1 = 0\n",
        "w2 = 1\n",
        "b = 1\n",
        "from math import exp\n",
        "class Activation_Functions:\n",
        "\n",
        "  def __init__(self, f):\n",
        "    self.f = f\n",
        "\n",
        "\n",
        "  def sigmoid(self):\n",
        "    return 1 / (1 + exp(-self.f))\n",
        "\n",
        "  def tanh(self):\n",
        "    return (exp(self.f) - exp(-self.f)) / (exp(self.f) + exp(-self.f))\n",
        "    \n",
        "  def ReLU(self):\n",
        "    if (self.f <= 0):\n",
        "      return 0\n",
        "    elif (self.f > 0):\n",
        "      return self.f"
      ]
    },
    {
      "cell_type": "code",
      "source": [
        "x1 , x2 = input(\"please entered a X1 and X2 : \").split(\" \")\n",
        "\n",
        "f = (int(x1) * w1) + (int(x2) * w2) + b\n",
        "test_class = Activation_Functions(f)\n",
        "\n",
        "print(f\"sigmoid : {test_class.sigmoid()}\")\n",
        "print(\"----------------------------------------------------------\")\n",
        "print(f\"tanh : {test_class.tanh()}\")\n",
        "print(\"----------------------------------------------------------\")\n",
        "print(f\"ReLU : {test_class.ReLU()}\")"
      ],
      "metadata": {
        "colab": {
          "base_uri": "https://localhost:8080/"
        },
        "id": "qgRuJlvZKKu2",
        "outputId": "ad0552e2-9f04-45f9-f9ce-dee8d6ae0b0b"
      },
      "execution_count": null,
      "outputs": [
        {
          "output_type": "stream",
          "name": "stdout",
          "text": [
            "please entered a X1 and X2 : 1 2\n",
            "sigmoid : 0.9525741268224334\n",
            "----------------------------------------------------------\n",
            "tanh : 0.9950547536867306\n",
            "----------------------------------------------------------\n",
            "ReLU : 3\n"
          ]
        }
      ]
    }
  ]
}