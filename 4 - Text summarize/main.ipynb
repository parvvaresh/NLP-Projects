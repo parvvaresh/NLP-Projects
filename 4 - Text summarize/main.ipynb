{
  "nbformat": 4,
  "nbformat_minor": 0,
  "metadata": {
    "colab": {
      "provenance": [],
      "authorship_tag": "ABX9TyOQAZeICJdwjIp9eAEIjGxc",
      "include_colab_link": true
    },
    "kernelspec": {
      "name": "python3",
      "display_name": "Python 3"
    },
    "language_info": {
      "name": "python"
    }
  },
  "cells": [
    {
      "cell_type": "markdown",
      "metadata": {
        "id": "view-in-github",
        "colab_type": "text"
      },
      "source": [
        "<a href=\"https://colab.research.google.com/github/parvvaresh/NLP-text-summarizer-from-scratch/blob/main/main.ipynb\" target=\"_parent\"><img src=\"https://colab.research.google.com/assets/colab-badge.svg\" alt=\"Open In Colab\"/></a>"
      ]
    },
    {
      "cell_type": "code",
      "execution_count": null,
      "metadata": {
        "id": "kLUYyxc5UaUL"
      },
      "outputs": [],
      "source": [
        "# importing libraries\n",
        "from google.colab import output\n",
        "import nltk\n",
        "import pandas as pd\n",
        "import spacy\n",
        "import string\n",
        "import numpy as np\n",
        "import re\n",
        "\n",
        "# downloading required files (download if needed)\n",
        "nltk.download('stopwords')\n",
        "nltk.download('punkt')\n",
        "!pip install wikipedia\n",
        "import wikipedia\n",
        "output.clear()"
      ]
    },
    {
      "cell_type": "code",
      "source": [
        "#from Wikipedia \n",
        "mahsa_amini = wikipedia.page(\"Mahsa amini\")\n",
        "mahsa_amini = mahsa_amini.content\n",
        "\n",
        "#see it\n",
        "mahsa_amini[: 1300]"
      ],
      "metadata": {
        "colab": {
          "base_uri": "https://localhost:8080/",
          "height": 131
        },
        "id": "PThzrlpaVQBz",
        "outputId": "ed46f781-bd94-46a4-b755-553208a351f8"
      },
      "execution_count": 86,
      "outputs": [
        {
          "output_type": "execute_result",
          "data": {
            "text/plain": [
              "\"On 16 September 2022, the 22-year-old Iranian woman Mahsa Amini, also known as Jina Amini, died in a hospital in Tehran, Iran, under suspicious circumstances. The Guidance Patrol, the religious morality police of Iran's government, arrested Amini for allegedly not wearing the hijab in accordance with government standards. The Law Enforcement Command of the Islamic Republic of Iran stated that she had a heart attack at a police station, collapsed, and fell into a coma before being transferred to a hospital. However, eyewitnesses, including women who were detained with Amini, reported that she was severely beaten and that she died as a result of police brutality, which was denied by the Iranian authorities. The assertions of police brutality, in addition to leaked medical scans, led some observers to believe Amini had a cerebral hemorrhage or stroke due to head injuries received after her arrest.Amini's death resulted in a series of protests described by CNN as more widespread than the protests in 2009, 2017, and 2019, and by The New York Times as the largest Iranian protests since at least 2009. Some female demonstrators removed their hijab or publicly cut their hair as acts of protest. Iran Human Rights reported that by December 2022 at least 476 people had been killed by securit\""
            ],
            "application/vnd.google.colaboratory.intrinsic+json": {
              "type": "string"
            }
          },
          "metadata": {},
          "execution_count": 86
        }
      ]
    },
    {
      "cell_type": "code",
      "source": [
        "# removing waste elements\n",
        "mahsa_amini = re.sub('\\[[a-zA-z0-9\\s]+\\]', '', mahsa_amini) # removing character like [34 text] etc\n",
        "mahsa_amini = re.sub('=+\\s+\\d?-?[a-zA-z0-9\\:–\\s-]+\\s+=+', '', mahsa_amini) # removing char\n",
        "\n",
        "exclist = string.punctuation\n",
        "# remove punctuations and digits from oldtext\n",
        "table_ = str.maketrans('', '', exclist)\n",
        "newtext = mahsa_amini.translate(table_).lower()"
      ],
      "metadata": {
        "id": "gi5wGHknVpLg"
      },
      "execution_count": null,
      "outputs": []
    },
    {
      "cell_type": "code",
      "source": [
        "\n",
        "\n",
        "def freq(text, stopword):\n",
        "  word_count = {}\n",
        "  txt_tokenize = nltk.tokenize.word_tokenize(text)\n",
        "\n",
        "  txt_with_out_stpword = [word for word in txt_tokenize if word not in stopword]\n",
        "\n",
        "  for word  in txt_with_out_stpword:\n",
        "    if word in word_count:\n",
        "      word_count[word] += 1\n",
        "    else:\n",
        "      word_count[word] = 1\n",
        "  return word_count\n",
        "\n",
        "stpWrd = nltk.corpus.stopwords.words('english')\n",
        "\n",
        "\n",
        "word_count = freq(newtext, stpWrd)\n",
        "\n",
        "\n",
        "word_count_table = pd.DataFrame({\n",
        "    \"key\" : list(word_count.keys()),\n",
        "    \"value\" : list(word_count.values())\n",
        "\n",
        "})\n",
        "\n",
        "word_count_table = word_count_table.sort_values(by = \"value\", ascending = False)\n",
        "\n",
        "\n",
        "word_count_table\n"
      ],
      "metadata": {
        "colab": {
          "base_uri": "https://localhost:8080/",
          "height": 424
        },
        "id": "Ms2GkjgpV4v1",
        "outputId": "18b4b727-30d8-4dc8-c6dc-a19f125096e6"
      },
      "execution_count": null,
      "outputs": [
        {
          "output_type": "execute_result",
          "data": {
            "text/plain": [
              "                    key  value\n",
              "7                 amini     47\n",
              "71                death     40\n",
              "316              aminis     35\n",
              "4               iranian     34\n",
              "74             protests     29\n",
              "...                 ...    ...\n",
              "540             nothing      1\n",
              "546            wrapping      1\n",
              "547            internal      1\n",
              "548   injuriesaccording      1\n",
              "1156            podcast      1\n",
              "\n",
              "[1157 rows x 2 columns]"
            ],
            "text/html": [
              "\n",
              "  <div id=\"df-f737045e-7a83-425a-b458-171866915f5a\">\n",
              "    <div class=\"colab-df-container\">\n",
              "      <div>\n",
              "<style scoped>\n",
              "    .dataframe tbody tr th:only-of-type {\n",
              "        vertical-align: middle;\n",
              "    }\n",
              "\n",
              "    .dataframe tbody tr th {\n",
              "        vertical-align: top;\n",
              "    }\n",
              "\n",
              "    .dataframe thead th {\n",
              "        text-align: right;\n",
              "    }\n",
              "</style>\n",
              "<table border=\"1\" class=\"dataframe\">\n",
              "  <thead>\n",
              "    <tr style=\"text-align: right;\">\n",
              "      <th></th>\n",
              "      <th>key</th>\n",
              "      <th>value</th>\n",
              "    </tr>\n",
              "  </thead>\n",
              "  <tbody>\n",
              "    <tr>\n",
              "      <th>7</th>\n",
              "      <td>amini</td>\n",
              "      <td>47</td>\n",
              "    </tr>\n",
              "    <tr>\n",
              "      <th>71</th>\n",
              "      <td>death</td>\n",
              "      <td>40</td>\n",
              "    </tr>\n",
              "    <tr>\n",
              "      <th>316</th>\n",
              "      <td>aminis</td>\n",
              "      <td>35</td>\n",
              "    </tr>\n",
              "    <tr>\n",
              "      <th>4</th>\n",
              "      <td>iranian</td>\n",
              "      <td>34</td>\n",
              "    </tr>\n",
              "    <tr>\n",
              "      <th>74</th>\n",
              "      <td>protests</td>\n",
              "      <td>29</td>\n",
              "    </tr>\n",
              "    <tr>\n",
              "      <th>...</th>\n",
              "      <td>...</td>\n",
              "      <td>...</td>\n",
              "    </tr>\n",
              "    <tr>\n",
              "      <th>540</th>\n",
              "      <td>nothing</td>\n",
              "      <td>1</td>\n",
              "    </tr>\n",
              "    <tr>\n",
              "      <th>546</th>\n",
              "      <td>wrapping</td>\n",
              "      <td>1</td>\n",
              "    </tr>\n",
              "    <tr>\n",
              "      <th>547</th>\n",
              "      <td>internal</td>\n",
              "      <td>1</td>\n",
              "    </tr>\n",
              "    <tr>\n",
              "      <th>548</th>\n",
              "      <td>injuriesaccording</td>\n",
              "      <td>1</td>\n",
              "    </tr>\n",
              "    <tr>\n",
              "      <th>1156</th>\n",
              "      <td>podcast</td>\n",
              "      <td>1</td>\n",
              "    </tr>\n",
              "  </tbody>\n",
              "</table>\n",
              "<p>1157 rows × 2 columns</p>\n",
              "</div>\n",
              "      <button class=\"colab-df-convert\" onclick=\"convertToInteractive('df-f737045e-7a83-425a-b458-171866915f5a')\"\n",
              "              title=\"Convert this dataframe to an interactive table.\"\n",
              "              style=\"display:none;\">\n",
              "        \n",
              "  <svg xmlns=\"http://www.w3.org/2000/svg\" height=\"24px\"viewBox=\"0 0 24 24\"\n",
              "       width=\"24px\">\n",
              "    <path d=\"M0 0h24v24H0V0z\" fill=\"none\"/>\n",
              "    <path d=\"M18.56 5.44l.94 2.06.94-2.06 2.06-.94-2.06-.94-.94-2.06-.94 2.06-2.06.94zm-11 1L8.5 8.5l.94-2.06 2.06-.94-2.06-.94L8.5 2.5l-.94 2.06-2.06.94zm10 10l.94 2.06.94-2.06 2.06-.94-2.06-.94-.94-2.06-.94 2.06-2.06.94z\"/><path d=\"M17.41 7.96l-1.37-1.37c-.4-.4-.92-.59-1.43-.59-.52 0-1.04.2-1.43.59L10.3 9.45l-7.72 7.72c-.78.78-.78 2.05 0 2.83L4 21.41c.39.39.9.59 1.41.59.51 0 1.02-.2 1.41-.59l7.78-7.78 2.81-2.81c.8-.78.8-2.07 0-2.86zM5.41 20L4 18.59l7.72-7.72 1.47 1.35L5.41 20z\"/>\n",
              "  </svg>\n",
              "      </button>\n",
              "      \n",
              "  <style>\n",
              "    .colab-df-container {\n",
              "      display:flex;\n",
              "      flex-wrap:wrap;\n",
              "      gap: 12px;\n",
              "    }\n",
              "\n",
              "    .colab-df-convert {\n",
              "      background-color: #E8F0FE;\n",
              "      border: none;\n",
              "      border-radius: 50%;\n",
              "      cursor: pointer;\n",
              "      display: none;\n",
              "      fill: #1967D2;\n",
              "      height: 32px;\n",
              "      padding: 0 0 0 0;\n",
              "      width: 32px;\n",
              "    }\n",
              "\n",
              "    .colab-df-convert:hover {\n",
              "      background-color: #E2EBFA;\n",
              "      box-shadow: 0px 1px 2px rgba(60, 64, 67, 0.3), 0px 1px 3px 1px rgba(60, 64, 67, 0.15);\n",
              "      fill: #174EA6;\n",
              "    }\n",
              "\n",
              "    [theme=dark] .colab-df-convert {\n",
              "      background-color: #3B4455;\n",
              "      fill: #D2E3FC;\n",
              "    }\n",
              "\n",
              "    [theme=dark] .colab-df-convert:hover {\n",
              "      background-color: #434B5C;\n",
              "      box-shadow: 0px 1px 3px 1px rgba(0, 0, 0, 0.15);\n",
              "      filter: drop-shadow(0px 1px 2px rgba(0, 0, 0, 0.3));\n",
              "      fill: #FFFFFF;\n",
              "    }\n",
              "  </style>\n",
              "\n",
              "      <script>\n",
              "        const buttonEl =\n",
              "          document.querySelector('#df-f737045e-7a83-425a-b458-171866915f5a button.colab-df-convert');\n",
              "        buttonEl.style.display =\n",
              "          google.colab.kernel.accessAllowed ? 'block' : 'none';\n",
              "\n",
              "        async function convertToInteractive(key) {\n",
              "          const element = document.querySelector('#df-f737045e-7a83-425a-b458-171866915f5a');\n",
              "          const dataTable =\n",
              "            await google.colab.kernel.invokeFunction('convertToInteractive',\n",
              "                                                     [key], {});\n",
              "          if (!dataTable) return;\n",
              "\n",
              "          const docLinkHtml = 'Like what you see? Visit the ' +\n",
              "            '<a target=\"_blank\" href=https://colab.research.google.com/notebooks/data_table.ipynb>data table notebook</a>'\n",
              "            + ' to learn more about interactive tables.';\n",
              "          element.innerHTML = '';\n",
              "          dataTable['output_type'] = 'display_data';\n",
              "          await google.colab.output.renderOutput(dataTable, element);\n",
              "          const docLink = document.createElement('div');\n",
              "          docLink.innerHTML = docLinkHtml;\n",
              "          element.appendChild(docLink);\n",
              "        }\n",
              "      </script>\n",
              "    </div>\n",
              "  </div>\n",
              "  "
            ]
          },
          "metadata": {},
          "execution_count": 4
        }
      ]
    },
    {
      "cell_type": "code",
      "source": [
        "sent_token = nltk.tokenize.sent_tokenize(mahsa_amini)\n",
        "\n",
        "\n",
        "def sent_weight(Sentences, word_count):\n",
        "  sent_rank = {}\n",
        "\n",
        "  for Sentence in Sentences:\n",
        "    for word, freq in word_count.items():\n",
        "      if word in Sentence.lower():\n",
        "        if Sentence in sent_rank:\n",
        "          sent_rank[Sentence] += freq\n",
        "\n",
        "        else:\n",
        "          sent_rank[Sentence] = freq\n",
        "      else:\n",
        "        pass\n",
        "  return sent_rank\n",
        "\n",
        "\n",
        "rank_Sentence = sent_weight(sent_token, word_count)\n"
      ],
      "metadata": {
        "id": "MXCyW2OZYIWl"
      },
      "execution_count": 80,
      "outputs": []
    },
    {
      "cell_type": "code",
      "source": [
        "avg = sum(list(rank_Sentence.values())) / len(rank_Sentence)\n",
        "\n",
        "print(f\"Are all sentences : {len(rank_Sentence)} \\nAnd the average point : {avg}\\nTotal points : {sum(list(rank_Sentence.values()))}\")"
      ],
      "metadata": {
        "colab": {
          "base_uri": "https://localhost:8080/"
        },
        "id": "cKgpS4ns3Hzx",
        "outputId": "a20df32a-590d-4704-feda-854f53b74772"
      },
      "execution_count": null,
      "outputs": [
        {
          "output_type": "stream",
          "name": "stdout",
          "text": [
            "Are all sentences : 146 \n",
            "And the average point : 129.21917808219177\n",
            "Total points : 18866\n"
          ]
        }
      ]
    },
    {
      "cell_type": "code",
      "source": [
        "summary  = \"\"\n",
        "\n",
        "for Sentence in sent_token:\n",
        "  if  (Sentence in  rank_Sentence) and (rank_Sentence[Sentence] > (1.15 * avg)):\n",
        "    summary += (\" \" + Sentence)"
      ],
      "metadata": {
        "id": "pOGWQbHi4QlJ"
      },
      "execution_count": 78,
      "outputs": []
    },
    {
      "cell_type": "code",
      "source": [
        "summary[ : 1300]"
      ],
      "metadata": {
        "colab": {
          "base_uri": "https://localhost:8080/",
          "height": 131
        },
        "id": "CiDLMtuN5E00",
        "outputId": "7a830c5c-4faa-4e6c-e9bf-b81f1d3da5a5"
      },
      "execution_count": 87,
      "outputs": [
        {
          "output_type": "execute_result",
          "data": {
            "text/plain": [
              "\" On 16 September 2022, the 22-year-old Iranian woman Mahsa Amini, also known as Jina Amini, died in a hospital in Tehran, Iran, under suspicious circumstances. The Guidance Patrol, the religious morality police of Iran's government, arrested Amini for allegedly not wearing the hijab in accordance with government standards. However, eyewitnesses, including women who were detained with Amini, reported that she was severely beaten and that she died as a result of police brutality, which was denied by the Iranian authorities. The assertions of police brutality, in addition to leaked medical scans, led some observers to believe Amini had a cerebral hemorrhage or stroke due to head injuries received after her arrest.Amini's death resulted in a series of protests described by CNN as more widespread than the protests in 2009, 2017, and 2019, and by The New York Times as the largest Iranian protests since at least 2009. Iran Human Rights reported that by December 2022 at least 476 people had been killed by security forces attacking protests across the country. His successor Ali Khamenei claimed that the hijab does not prevent social, political, or academic activities at all.Violence and harassment against women not wearing the hijab in accordance with Iranian government standards had been\""
            ],
            "application/vnd.google.colaboratory.intrinsic+json": {
              "type": "string"
            }
          },
          "metadata": {},
          "execution_count": 87
        }
      ]
    }
  ]
}