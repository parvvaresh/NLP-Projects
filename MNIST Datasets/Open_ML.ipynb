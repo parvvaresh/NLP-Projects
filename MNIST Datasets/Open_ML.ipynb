{
  "nbformat": 4,
  "nbformat_minor": 0,
  "metadata": {
    "colab": {
      "provenance": [],
      "authorship_tag": "ABX9TyPlUtsrq67SG2awUWDTmeyE",
      "include_colab_link": true
    },
    "kernelspec": {
      "name": "python3",
      "display_name": "Python 3"
    },
    "language_info": {
      "name": "python"
    }
  },
  "cells": [
    {
      "cell_type": "markdown",
      "metadata": {
        "id": "view-in-github",
        "colab_type": "text"
      },
      "source": [
        "<a href=\"https://colab.research.google.com/github/parvvaresh/Neural-Networks/blob/main/MNIST%20Datasets/Open_ML.ipynb\" target=\"_parent\"><img src=\"https://colab.research.google.com/assets/colab-badge.svg\" alt=\"Open In Colab\"/></a>"
      ]
    },
    {
      "cell_type": "code",
      "execution_count": null,
      "metadata": {
        "id": "HM2BMfIgN3Ca"
      },
      "outputs": [],
      "source": [
        "from sklearn.model_selection import train_test_split\n",
        "from sklearn.neural_network import MLPClassifier\n",
        "from sklearn.datasets import load_digits\n",
        "import matplotlib.pyplot as plt\n",
        "from sklearn.datasets import fetch_openml\n",
        "import numpy as np"
      ]
    },
    {
      "cell_type": "markdown",
      "source": [
        "\n",
        "\n",
        "For this lesson, we will use a more granular version of the MNIST dataset. Instead of using the version in scikit-learn which has 64 pixel images, we will use a version from Open ML that has 784 pixels (28 x 28).\n",
        "\n",
        "Open ML (www.openml.org) has a database of large datasets that can be used for a variety of machine learning problems. Scikit-learn has a function fetch_openml for directly downloading datasets from the Open ML database."
      ],
      "metadata": {
        "id": "lomZ5qwtODem"
      }
    },
    {
      "cell_type": "code",
      "source": [
        "#downloads datasets\n",
        "X, y = fetch_openml('mnist_784', version=1, return_X_y=True)"
      ],
      "metadata": {
        "id": "JqPBmNIYOGLb"
      },
      "execution_count": null,
      "outputs": []
    },
    {
      "cell_type": "code",
      "source": [
        "print(f\"x row is {X.shape[0]} --- x columns is : {X.shape[1]}\")\n",
        "print(\"---------------------------------------------------------\")\n",
        "print(f\"y row is {y.shape[0]} --- y columns is : {1}\")"
      ],
      "metadata": {
        "colab": {
          "base_uri": "https://localhost:8080/"
        },
        "id": "v2b5066YPbpH",
        "outputId": "b0c35176-0f68-4f76-8282-75c4134488c4"
      },
      "execution_count": null,
      "outputs": [
        {
          "output_type": "stream",
          "name": "stdout",
          "text": [
            "x row is 70000 --- x columns is : 784\n",
            "---------------------------------------------------------\n",
            "y row is 70000 --- y columns is : 1\n"
          ]
        }
      ]
    },
    {
      "cell_type": "markdown",
      "source": [
        "We can briefly look at the shape of the arrays, the range of the features values, and the first few values of the target array to better understand the dataset.\n"
      ],
      "metadata": {
        "id": "GmYFf-g1QXgL"
      }
    },
    {
      "cell_type": "code",
      "source": [
        "print(f\"min of datasets is : {np.min(X)}\")\n",
        "print(\"------------------------------------------------------------\")\n",
        "print(f\"avarage of datasets is : {np.max(X)}\")"
      ],
      "metadata": {
        "colab": {
          "base_uri": "https://localhost:8080/"
        },
        "id": "fkjfOyW2QY58",
        "outputId": "35e5b057-475d-4ed4-85ab-064e9d72394e"
      },
      "execution_count": null,
      "outputs": [
        {
          "output_type": "stream",
          "name": "stdout",
          "text": [
            "min of datasets is : pixel1      0.0\n",
            "pixel2      0.0\n",
            "pixel3      0.0\n",
            "pixel4      0.0\n",
            "pixel5      0.0\n",
            "           ... \n",
            "pixel780    0.0\n",
            "pixel781    0.0\n",
            "pixel782    0.0\n",
            "pixel783    0.0\n",
            "pixel784    0.0\n",
            "Length: 784, dtype: float64\n",
            "------------------------------------------------------------\n",
            "avarage of datasets is : pixel1       0.0\n",
            "pixel2       0.0\n",
            "pixel3       0.0\n",
            "pixel4       0.0\n",
            "pixel5       0.0\n",
            "            ... \n",
            "pixel780    62.0\n",
            "pixel781     0.0\n",
            "pixel782     0.0\n",
            "pixel783     0.0\n",
            "pixel784     0.0\n",
            "Length: 784, dtype: float64\n"
          ]
        }
      ]
    },
    {
      "cell_type": "code",
      "source": [
        "print(X[:10])"
      ],
      "metadata": {
        "colab": {
          "base_uri": "https://localhost:8080/"
        },
        "id": "wzFJsXiuRjlM",
        "outputId": "073175c5-6574-4712-9655-bb716fadd355"
      },
      "execution_count": null,
      "outputs": [
        {
          "output_type": "stream",
          "name": "stdout",
          "text": [
            "   pixel1  pixel2  pixel3  pixel4  pixel5  pixel6  pixel7  pixel8  pixel9  \\\n",
            "0     0.0     0.0     0.0     0.0     0.0     0.0     0.0     0.0     0.0   \n",
            "1     0.0     0.0     0.0     0.0     0.0     0.0     0.0     0.0     0.0   \n",
            "2     0.0     0.0     0.0     0.0     0.0     0.0     0.0     0.0     0.0   \n",
            "3     0.0     0.0     0.0     0.0     0.0     0.0     0.0     0.0     0.0   \n",
            "4     0.0     0.0     0.0     0.0     0.0     0.0     0.0     0.0     0.0   \n",
            "5     0.0     0.0     0.0     0.0     0.0     0.0     0.0     0.0     0.0   \n",
            "6     0.0     0.0     0.0     0.0     0.0     0.0     0.0     0.0     0.0   \n",
            "7     0.0     0.0     0.0     0.0     0.0     0.0     0.0     0.0     0.0   \n",
            "8     0.0     0.0     0.0     0.0     0.0     0.0     0.0     0.0     0.0   \n",
            "9     0.0     0.0     0.0     0.0     0.0     0.0     0.0     0.0     0.0   \n",
            "\n",
            "   pixel10  ...  pixel775  pixel776  pixel777  pixel778  pixel779  pixel780  \\\n",
            "0      0.0  ...       0.0       0.0       0.0       0.0       0.0       0.0   \n",
            "1      0.0  ...       0.0       0.0       0.0       0.0       0.0       0.0   \n",
            "2      0.0  ...       0.0       0.0       0.0       0.0       0.0       0.0   \n",
            "3      0.0  ...       0.0       0.0       0.0       0.0       0.0       0.0   \n",
            "4      0.0  ...       0.0       0.0       0.0       0.0       0.0       0.0   \n",
            "5      0.0  ...       0.0       0.0       0.0       0.0       0.0       0.0   \n",
            "6      0.0  ...       0.0       0.0       0.0       0.0       0.0       0.0   \n",
            "7      0.0  ...       0.0       0.0       0.0       0.0       0.0       0.0   \n",
            "8      0.0  ...       0.0       0.0       0.0       0.0       0.0       0.0   \n",
            "9      0.0  ...       0.0       0.0       0.0       0.0       0.0       0.0   \n",
            "\n",
            "   pixel781  pixel782  pixel783  pixel784  \n",
            "0       0.0       0.0       0.0       0.0  \n",
            "1       0.0       0.0       0.0       0.0  \n",
            "2       0.0       0.0       0.0       0.0  \n",
            "3       0.0       0.0       0.0       0.0  \n",
            "4       0.0       0.0       0.0       0.0  \n",
            "5       0.0       0.0       0.0       0.0  \n",
            "6       0.0       0.0       0.0       0.0  \n",
            "7       0.0       0.0       0.0       0.0  \n",
            "8       0.0       0.0       0.0       0.0  \n",
            "9       0.0       0.0       0.0       0.0  \n",
            "\n",
            "[10 rows x 784 columns]\n"
          ]
        }
      ]
    },
    {
      "cell_type": "code",
      "source": [
        "#create and fit model\n",
        "model = MLPClassifier(hidden_layer_sizes = (6,), alpha = 1e-4, max_iter = 200)\n",
        "\n",
        "model.fit(X,y)"
      ],
      "metadata": {
        "colab": {
          "base_uri": "https://localhost:8080/"
        },
        "id": "z61ba499RkTO",
        "outputId": "31ce746c-bc18-465c-b4c6-961e43d2652b"
      },
      "execution_count": null,
      "outputs": [
        {
          "output_type": "execute_result",
          "data": {
            "text/plain": [
              "MLPClassifier(hidden_layer_sizes=(6,))"
            ]
          },
          "metadata": {},
          "execution_count": 9
        }
      ]
    },
    {
      "cell_type": "code",
      "source": [
        "#MLPClassifier Coefficients\n",
        "\n",
        "print(model.coefs_)"
      ],
      "metadata": {
        "colab": {
          "base_uri": "https://localhost:8080/"
        },
        "id": "1lpH7eCKurER",
        "outputId": "7c2d45dc-da87-4918-f3fd-5e60224c7fd8"
      },
      "execution_count": null,
      "outputs": [
        {
          "output_type": "stream",
          "name": "stdout",
          "text": [
            "[array([[ 7.13008218e-316,  3.35180878e-315,  1.61774456e-315,\n",
            "         3.83342155e-316, -1.95817086e-315, -6.07850846e-316],\n",
            "       [-3.73786478e-315,  4.15078269e-315, -2.11055464e-315,\n",
            "         5.34110576e-316,  1.82949015e-315, -1.84689209e-315],\n",
            "       [ 3.09850967e-316,  2.45457441e-315,  5.81896486e-316,\n",
            "        -2.24538755e-317, -1.93787066e-315, -2.78611399e-315],\n",
            "       ...,\n",
            "       [ 1.74141365e-315, -7.24979251e-316,  3.75044741e-315,\n",
            "         1.13547821e-315,  2.88248332e-315, -1.10791104e-316],\n",
            "       [-6.76258326e-316, -1.54887054e-315,  1.16427666e-316,\n",
            "         2.75092129e-315, -7.43842875e-316,  9.63870391e-316],\n",
            "       [ 4.76072679e-315,  1.19277866e-315,  2.62222875e-315,\n",
            "        -4.92657361e-316, -2.35551372e-315, -1.47790573e-316]]), array([[-4.75873156e-09, -2.72542929e-20,  3.77927635e-06,\n",
            "         8.29858340e-61, -9.87511870e-73, -1.29554144e-14,\n",
            "         7.78971544e-50, -2.62941925e-53,  1.39978727e-17,\n",
            "         2.55361473e-13],\n",
            "       [ 1.41008489e-64,  1.29386530e-02, -7.14196233e-12,\n",
            "        -4.33745515e-11, -1.15695957e-94,  1.48580743e-01,\n",
            "         1.70932357e-88,  2.20357430e-02, -3.49417348e-42,\n",
            "         2.82372509e-01],\n",
            "       [-2.71356465e-02, -4.13739812e-03, -1.55666529e-02,\n",
            "         1.19291053e-01, -2.37232193e-03,  2.96057798e-01,\n",
            "        -2.55866871e-05, -1.88490548e-07,  2.27831483e-02,\n",
            "        -7.77344919e-09],\n",
            "       [ 3.07099965e-04,  3.45305578e-01, -9.25385877e-03,\n",
            "        -3.28887812e-03, -1.76444617e-13, -1.16291092e-24,\n",
            "         4.64265788e-01,  5.39777896e-02, -4.87696756e-15,\n",
            "         7.17598835e-02],\n",
            "       [ 2.94550488e-01,  3.70084568e-01,  3.21391894e-01,\n",
            "         3.38117563e-01,  3.61706625e-01,  3.22989481e-01,\n",
            "         2.85166946e-01,  3.98902273e-01,  3.40624561e-01,\n",
            "         3.83830478e-01],\n",
            "       [ 4.30128487e-01,  3.57045709e-01,  4.02257145e-01,\n",
            "         4.07154814e-01,  4.06189884e-01,  4.30102580e-01,\n",
            "         4.44963303e-01,  3.49879946e-01,  4.17456928e-01,\n",
            "         3.81243065e-01]])]\n"
          ]
        }
      ]
    },
    {
      "cell_type": "code",
      "source": [
        "print(len(model.coefs_))"
      ],
      "metadata": {
        "colab": {
          "base_uri": "https://localhost:8080/"
        },
        "id": "7Rtwy4ByxoGD",
        "outputId": "a6894109-d706-4fdf-e18e-d5855b7f97fd"
      },
      "execution_count": null,
      "outputs": [
        {
          "output_type": "stream",
          "name": "stdout",
          "text": [
            "2\n"
          ]
        }
      ]
    },
    {
      "cell_type": "markdown",
      "source": [
        "The two elements in the list correspond to the two layers: the hidden layer and the output layer. We have an array of coefficients for each of these layers. Let’s look at the shape of the coefficients for the hidden layer.\n"
      ],
      "metadata": {
        "id": "16Uqv9D6ywT8"
      }
    },
    {
      "cell_type": "code",
      "source": [
        "print(model.coefs_[0].shape)"
      ],
      "metadata": {
        "colab": {
          "base_uri": "https://localhost:8080/"
        },
        "id": "4k5fSHpryxnd",
        "outputId": "28319f94-946a-434f-b44c-2afc82b59346"
      },
      "execution_count": null,
      "outputs": [
        {
          "output_type": "stream",
          "name": "stdout",
          "text": [
            "(784, 6)\n"
          ]
        }
      ]
    },
    {
      "cell_type": "code",
      "source": [
        "print(model.coefs_[1].shape)"
      ],
      "metadata": {
        "id": "MNtt-edf0EmO",
        "outputId": "111d35f3-a306-4383-e007-27f3275ad205",
        "colab": {
          "base_uri": "https://localhost:8080/"
        }
      },
      "execution_count": null,
      "outputs": [
        {
          "output_type": "stream",
          "name": "stdout",
          "text": [
            "(6, 10)\n"
          ]
        }
      ]
    }
  ]
}