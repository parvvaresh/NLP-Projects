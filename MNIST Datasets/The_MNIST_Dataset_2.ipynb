{
  "nbformat": 4,
  "nbformat_minor": 0,
  "metadata": {
    "colab": {
      "provenance": [],
      "authorship_tag": "ABX9TyMXZsXqhCjZL1ZubWjo7rG8",
      "include_colab_link": true
    },
    "kernelspec": {
      "name": "python3",
      "display_name": "Python 3"
    },
    "language_info": {
      "name": "python"
    }
  },
  "cells": [
    {
      "cell_type": "markdown",
      "metadata": {
        "id": "view-in-github",
        "colab_type": "text"
      },
      "source": [
        "<a href=\"https://colab.research.google.com/github/parvvaresh/Neural-Networks/blob/main/MNIST%20Datasets/The_MNIST_Dataset_2.ipynb\" target=\"_parent\"><img src=\"https://colab.research.google.com/assets/colab-badge.svg\" alt=\"Open In Colab\"/></a>"
      ]
    },
    {
      "cell_type": "code",
      "execution_count": null,
      "metadata": {
        "id": "3TkMEVrXBiF4"
      },
      "outputs": [],
      "source": [
        "from sklearn.model_selection import train_test_split\n",
        "from sklearn.neural_network import MLPClassifier\n",
        "from sklearn.datasets import load_digits\n",
        "import matplotlib.pyplot as plt"
      ]
    },
    {
      "cell_type": "code",
      "source": [
        "#load digits\n",
        "X, y = load_digits(n_class = 10, return_X_y = True)"
      ],
      "metadata": {
        "id": "wdcbVv3VB3gU"
      },
      "execution_count": null,
      "outputs": []
    },
    {
      "cell_type": "code",
      "source": [
        "print(f\"x row is {X.shape[0]} --- x columns is : {X.shape[1]}\")\n",
        "print(\"---------------------------------------------------------\")\n",
        "print(f\"y row is {y.shape[0]} --- y columns is : {1}\")"
      ],
      "metadata": {
        "colab": {
          "base_uri": "https://localhost:8080/"
        },
        "id": "wjtpLYvfC5ZU",
        "outputId": "3241b826-14b8-4c5a-8ae6-ca13ea5115aa"
      },
      "execution_count": null,
      "outputs": [
        {
          "output_type": "stream",
          "name": "stdout",
          "text": [
            "x row is 1797 --- x columns is : 64\n",
            "---------------------------------------------------------\n",
            "y row is 1797 --- y columns is : 1\n"
          ]
        }
      ]
    },
    {
      "cell_type": "code",
      "source": [
        "#make test and train\n",
        "\n",
        "X_train, X_test, y_train, y_test = train_test_split(X, y, random_state = 2)"
      ],
      "metadata": {
        "id": "i2RxQzl3DAu8"
      },
      "execution_count": null,
      "outputs": []
    },
    {
      "cell_type": "code",
      "source": [
        "#create a model and fit\n",
        "\n",
        "model = MLPClassifier(random_state = 2)\n",
        "\n",
        "model.fit(X_train, y_train)"
      ],
      "metadata": {
        "colab": {
          "base_uri": "https://localhost:8080/"
        },
        "id": "1RAJKcQpESEx",
        "outputId": "b7230faa-3fbf-450d-a5f2-56f817432603"
      },
      "execution_count": null,
      "outputs": [
        {
          "output_type": "execute_result",
          "data": {
            "text/plain": [
              "MLPClassifier(random_state=2)"
            ]
          },
          "metadata": {},
          "execution_count": 16
        }
      ]
    },
    {
      "cell_type": "code",
      "source": [
        "#score\n",
        "\n",
        "print(f\"score of this model : {model.score(X_test, y_test)}\")"
      ],
      "metadata": {
        "colab": {
          "base_uri": "https://localhost:8080/"
        },
        "id": "qYZS5rzvErxC",
        "outputId": "e9dd0e68-5c4a-4c79-d8cd-d08495086235"
      },
      "execution_count": null,
      "outputs": [
        {
          "output_type": "stream",
          "name": "stdout",
          "text": [
            "score of this model : 0.96\n"
          ]
        }
      ]
    },
    {
      "cell_type": "code",
      "source": [
        "#find how many data wrong predict\n",
        "\n",
        "all_X_test = X_test.shape[0]\n",
        "\n",
        "score = model.score(X_test, y_test)\n",
        "print(f\"number of wrong predict is {all_X_test * (1 - score)}\")"
      ],
      "metadata": {
        "colab": {
          "base_uri": "https://localhost:8080/"
        },
        "id": "cpplIrLYFQX7",
        "outputId": "93ba7708-0971-4f67-d01c-af11c0829923"
      },
      "execution_count": null,
      "outputs": [
        {
          "output_type": "stream",
          "name": "stdout",
          "text": [
            "number of wrong predict is 18.000000000000014\n"
          ]
        }
      ]
    },
    {
      "cell_type": "code",
      "source": [
        "#see \n",
        "\n",
        "\n",
        "y_pred = model.predict(X_test)\n",
        "incorrect = X_test[y_pred != y_test]\n",
        "incorrect_true = y_test[y_pred != y_test]\n",
        "incorrect_pred = y_pred[y_pred != y_test]\n",
        "\n",
        "j = 0\n",
        "print(incorrect[j].reshape(8, 8).astype(int))\n",
        "print(\"true value:\", incorrect_true[j])\n",
        "print(\"predicted value:\", incorrect_pred[j])"
      ],
      "metadata": {
        "colab": {
          "base_uri": "https://localhost:8080/"
        },
        "id": "cLQaN7c4JQU3",
        "outputId": "dbf46288-b842-4ebb-c714-a4980c0b3bfc"
      },
      "execution_count": null,
      "outputs": [
        {
          "output_type": "stream",
          "name": "stdout",
          "text": [
            "[[ 0  0 11  7  0  0  0  0]\n",
            " [ 0  5 16  3  2 14  3  0]\n",
            " [ 0  9 15  0 12 15  0  0]\n",
            " [ 0  6 16 15 16  5  0  0]\n",
            " [ 0  0  6 15 11  0  0  0]\n",
            " [ 0  0  1 16  4  0  0  0]\n",
            " [ 0  0  9 12  0  0  0  0]\n",
            " [ 0  0 13 10  0  0  0  0]]\n",
            "true value: 4\n",
            "predicted value: 9\n"
          ]
        }
      ]
    }
  ]
}