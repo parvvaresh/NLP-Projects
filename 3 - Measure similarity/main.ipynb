{
  "nbformat": 4,
  "nbformat_minor": 0,
  "metadata": {
    "colab": {
      "provenance": [],
      "authorship_tag": "ABX9TyNATV5KBZSUzJYjolv8wp7e",
      "include_colab_link": true
    },
    "kernelspec": {
      "name": "python3",
      "display_name": "Python 3"
    },
    "language_info": {
      "name": "python"
    }
  },
  "cells": [
    {
      "cell_type": "markdown",
      "metadata": {
        "id": "view-in-github",
        "colab_type": "text"
      },
      "source": [
        "<a href=\"https://colab.research.google.com/github/parvvaresh/Measure-similarity-between-two-sentences-using-nlp/blob/main/main.ipynb\" target=\"_parent\"><img src=\"https://colab.research.google.com/assets/colab-badge.svg\" alt=\"Open In Colab\"/></a>"
      ]
    },
    {
      "cell_type": "code",
      "execution_count": 74,
      "metadata": {
        "id": "jjjND9a9Qf2D"
      },
      "outputs": [],
      "source": [
        "# importing libraries\n",
        "from google.colab import output\n",
        "import nltk\n",
        "nltk.download('stopwords')\n",
        "nltk.download('punkt')\n",
        "output.clear()"
      ]
    },
    {
      "cell_type": "code",
      "source": [
        "##\n",
        "class model:\n",
        "\n",
        "  def __init__(self, text1, text2):\n",
        "\n",
        "    self.text1 = text1\n",
        "    self.text2 = text2\n",
        "    self.stpWrd = nltk.corpus.stopwords.words('english')\n",
        "    self.key_word = []\n",
        "  \n",
        "  def preprocessing(self):\n",
        "\n",
        "    self.text1 = nltk.tokenize.word_tokenize(self.text1)\n",
        "    self.text2 = nltk.tokenize.word_tokenize(self.text2) \n",
        "\n",
        "    self.text1 = {word for word in self.text1 if word not in self.stpWrd}\n",
        "    self.text2 = {word for word in self.text2 if word not in self.stpWrd} \n",
        "\n",
        "  def _norm(self, vector):\n",
        "\n",
        "    from math import sqrt\n",
        "    norm = 0\n",
        "\n",
        "    for element in vector:\n",
        "      norm += element ** 2\n",
        "    return sqrt(norm)\n",
        "  \n",
        "  def _Internal_multiplication(self, vector1, vector2):\n",
        "\n",
        "    Internal_multiplication = 0\n",
        "    for index in range(0, len(vector1)):\n",
        "      Internal_multiplication += vector1[index] * vector2[index]\n",
        "    return Internal_multiplication\n",
        "\n",
        "  def fit(self):\n",
        "\n",
        "    self.key_word = self.text1.union(self.text2)\n",
        "    vector1 = []\n",
        "    vector2 = []\n",
        "\n",
        "    for word in self.key_word:\n",
        "    \n",
        "      if word in self.text1:\n",
        "        vector1.append(1)\n",
        "      else:\n",
        "        vector1.append(0)\n",
        "\n",
        "      if word in self.text2:\n",
        "        vector2.append(1)\n",
        "      else:\n",
        "        vector2.append(0)\n",
        "        \n",
        "    return round((self._Internal_multiplication(vector1, vector2)) / ((self._norm(vector1)) * (self._norm(vector2))), 4)"
      ],
      "metadata": {
        "id": "eSuuvyT6Sli6"
      },
      "execution_count": 75,
      "outputs": []
    },
    {
      "cell_type": "code",
      "source": [
        "#load data\n",
        "f_text = open(\"/content/text1.txt\", \"r\")\n",
        "text1 = f_text.read()\n",
        "\n",
        "\n",
        "f_text = open(\"/content/text2.txt\", \"r\")\n",
        "text2 = f_text.read()"
      ],
      "metadata": {
        "id": "XUyH1ch0YVSD"
      },
      "execution_count": 76,
      "outputs": []
    },
    {
      "cell_type": "code",
      "source": [
        "#see text\n",
        "print(f\"text1 : \\n {text1} \\n --------------------------------------------------------- \\n text2 : \\n {text2}\")"
      ],
      "metadata": {
        "colab": {
          "base_uri": "https://localhost:8080/"
        },
        "id": "2eVgHaMGZ18K",
        "outputId": "8f4b39c3-38f5-433d-c474-b8d7171c47d3"
      },
      "execution_count": 77,
      "outputs": [
        {
          "output_type": "stream",
          "name": "stdout",
          "text": [
            "text1 : \n",
            " On 16 September 2022, the 22-year-old Iranian woman Mahsa Amini, also known as Jina Amini, died in a hospital in Tehran, Iran, under suspicious circumstances. The Guidance Patrol, the religious morality police of Iran's government, arrested Amini for allegedly not wearing the hijab in accordance with government standards. The Law Enforcement Command of the Islamic Republic of Iran stated that she had a heart attack at a police station, collapsed, and fell into a coma before being transferred to a hospital. However, eyewitnesses, including women who were detained with Amini, reported that she was severely beaten and that she died as a result of police brutality,which was denied by the Iranian authorities. The assertions of police brutality, in addition to leaked medical scans, led some observers to believe Amini had a cerebral hemorrhage or stroke due to head injuries received after her arrest. Amini's death resulted in a series of protests described by CNN as more widespread than the protests in 2009, 2017, and 2019, and by The New York Times as the largest Iranian protests since at least 2009. Some female demonstrators removed their hijab or publicly cut their hair as acts of protest. Iran Human Rights reported that by December 2022 at least 476 people had been killed by security forces attacking protests across the country. Amnesty International reported that Iranian security forces had, in some cases, fired into groups with live ammunition and had in other cases killed protesters by beating them with batons.\n",
            " \n",
            " --------------------------------------------------------- \n",
            " text2 : \n",
            " Mehsa Amini, a 22-year-old Iranian woman, known as Gina Amini, died on 26 September 2011 in a hospital in Tehran under suspicious circumstances. Ershad Police, the religious ethics police of the Iranian government, arrested Amini on the charge of not observing hijab according to government standards. The police command of the Islamic Republic of Iran announced that he had a heart attack at the police station, fell and went into a coma before being transferred to the hospital. However, eyewitnesses, including women who were detained with Amini, reported that he was severely beaten and died as a result of police brutality, which Iranian authorities denied. The police's brutal statements, in addition to leaked medical scans, have led some observers to speculate that Amini suffered a brain hemorrhage or stroke from head injuries sustained after his arrest. Amini's death led to a series of protests that CNN described as larger than those of 2009, 2017 and 2019, and the New York Times described as the largest Iranian protests since at least 2009. Some female demonstrators removed their veils or cut them off publicly. As of December 2022, at least 476 people have been killed by security forces in attacks on protests across the country. Amnesty International reported that Iran's security forces in some cases shot the groups with live ammunition and in other cases killed the protesters by beating them with batons.\n",
            "\n"
          ]
        }
      ]
    },
    {
      "cell_type": "code",
      "source": [
        "# test a model\n",
        "text_similarity = model(text1, text2)\n",
        "\n",
        "text_similarity.preprocessing()\n",
        "\n",
        "\n",
        "print(f\"The percentage of similarity between two texts :‌ {text_similarity.fit() * 100} %\")"
      ],
      "metadata": {
        "colab": {
          "base_uri": "https://localhost:8080/"
        },
        "id": "Jgf8uJWQcKRG",
        "outputId": "a08f5136-0cb3-4c31-9378-b331a39b698a"
      },
      "execution_count": 78,
      "outputs": [
        {
          "output_type": "stream",
          "name": "stdout",
          "text": [
            "The percentage of similarity between two texts :‌ 77.14 %\n"
          ]
        }
      ]
    }
  ]
}