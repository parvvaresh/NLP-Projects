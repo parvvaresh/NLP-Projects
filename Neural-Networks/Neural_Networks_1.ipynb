{
  "nbformat": 4,
  "nbformat_minor": 0,
  "metadata": {
    "colab": {
      "provenance": [],
      "authorship_tag": "ABX9TyP3qT0IAxCtxzYtDYo29Lv2",
      "include_colab_link": true
    },
    "kernelspec": {
      "name": "python3",
      "display_name": "Python 3"
    },
    "language_info": {
      "name": "python"
    }
  },
  "cells": [
    {
      "cell_type": "markdown",
      "metadata": {
        "id": "view-in-github",
        "colab_type": "text"
      },
      "source": [
        "<a href=\"https://colab.research.google.com/github/parvvaresh/Neural-Networks/blob/main/Neural-Networks/Neural_Networks_1.ipynb\" target=\"_parent\"><img src=\"https://colab.research.google.com/assets/colab-badge.svg\" alt=\"Open In Colab\"/></a>"
      ]
    },
    {
      "cell_type": "code",
      "execution_count": null,
      "metadata": {
        "id": "lQ4s8k6T1h3U"
      },
      "outputs": [],
      "source": [
        "from sklearn.model_selection import train_test_split\n",
        "from sklearn.neural_network import MLPClassifier\n",
        "from sklearn.datasets import make_classification"
      ]
    },
    {
      "cell_type": "code",
      "source": [
        "#Creating Artificial Dataset\n",
        "\n",
        "x, y = make_classification(random_state = 3, n_features = 2, n_informative = 2, n_redundant = 0)\n",
        "\n",
        "\n",
        "print(f\"x rows : {x.shape[0]} and x columns : {x.shape[1]}\")\n",
        "print(f\"y rows : {y.shape[0]} and y columns : 1\")"
      ],
      "metadata": {
        "colab": {
          "base_uri": "https://localhost:8080/"
        },
        "id": "Mpz68vOe2kva",
        "outputId": "7b14843b-8bc8-4b5b-8427-0f732790a35d"
      },
      "execution_count": null,
      "outputs": [
        {
          "output_type": "stream",
          "name": "stdout",
          "text": [
            "x rows : 100 and x columns : 2\n",
            "y rows : 100 and y columns : 1\n"
          ]
        }
      ]
    },
    {
      "cell_type": "code",
      "source": [
        "#create test and train \n",
        "x_train, x_test, y_train, y_test = train_test_split(x, y, random_state = 3)"
      ],
      "metadata": {
        "id": "p7AJwJcz4Ul4"
      },
      "execution_count": null,
      "outputs": []
    },
    {
      "cell_type": "code",
      "source": [
        "#model fit\n",
        "\n",
        "model = MLPClassifier()\n",
        "\n",
        "model.fit(x_train,y_train)"
      ],
      "metadata": {
        "colab": {
          "base_uri": "https://localhost:8080/"
        },
        "id": "1xe1I3dv3HEi",
        "outputId": "4ed6644e-08e2-4c04-b85e-5eecbdc8225f"
      },
      "execution_count": null,
      "outputs": [
        {
          "output_type": "stream",
          "name": "stderr",
          "text": [
            "/usr/local/lib/python3.7/dist-packages/sklearn/neural_network/_multilayer_perceptron.py:696: ConvergenceWarning: Stochastic Optimizer: Maximum iterations (200) reached and the optimization hasn't converged yet.\n",
            "  ConvergenceWarning,\n"
          ]
        },
        {
          "output_type": "execute_result",
          "data": {
            "text/plain": [
              "MLPClassifier()"
            ]
          },
          "metadata": {},
          "execution_count": 13
        }
      ]
    },
    {
      "cell_type": "code",
      "source": [
        "#You will notice that we get a ConvergenceWarning. \n",
        "#This means that the neural network needs more iterations to converge on the optimal coefficients.\n",
        "#The default number of iterations is 200. Let’s up this value to 1000."
      ],
      "metadata": {
        "id": "lVgf-Iia3cJg"
      },
      "execution_count": null,
      "outputs": []
    },
    {
      "cell_type": "code",
      "source": [
        "#fit model again\n",
        "\n",
        "model_2 = MLPClassifier(max_iter = 1000)\n",
        "\n",
        "model_2.fit(x_train,y_train)"
      ],
      "metadata": {
        "colab": {
          "base_uri": "https://localhost:8080/"
        },
        "id": "zGuXEpCt3qG9",
        "outputId": "ad1a28a5-487f-4f8d-ad51-8c406f9eef3c"
      },
      "execution_count": null,
      "outputs": [
        {
          "output_type": "execute_result",
          "data": {
            "text/plain": [
              "MLPClassifier(max_iter=1000)"
            ]
          },
          "metadata": {},
          "execution_count": 15
        }
      ]
    },
    {
      "cell_type": "code",
      "source": [
        "#Now when we run this code, the neural network will converge. \n",
        "#We can now use the score method to calculate the accuracy on the test set.\n"
      ],
      "metadata": {
        "id": "U7y8szvs4MUA"
      },
      "execution_count": null,
      "outputs": []
    },
    {
      "cell_type": "code",
      "source": [
        "#score\n",
        "print(f\"score of frist model : {model.score(x_test, y_test)}\")\n",
        "\n",
        "print(\"-----------------------------------------------------------------\")\n",
        "\n",
        "print(f\"score of secend model : {model_2.score(x_test, y_test)}\")"
      ],
      "metadata": {
        "colab": {
          "base_uri": "https://localhost:8080/"
        },
        "id": "sUA8iB0h4x6u",
        "outputId": "53a6723d-251c-4910-e47a-119c1aa92854"
      },
      "execution_count": null,
      "outputs": [
        {
          "output_type": "stream",
          "name": "stdout",
          "text": [
            "score of frist model : 0.64\n",
            "-----------------------------------------------------------------\n",
            "score of secend model : 0.64\n"
          ]
        }
      ]
    }
  ]
}